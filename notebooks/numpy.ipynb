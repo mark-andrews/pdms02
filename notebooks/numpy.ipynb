{
 "cells": [
  {
   "cell_type": "code",
   "execution_count": 5,
   "metadata": {},
   "outputs": [],
   "source": [
    "import numpy as np"
   ]
  },
  {
   "cell_type": "code",
   "execution_count": 1,
   "metadata": {},
   "outputs": [],
   "source": [
    "x = [1, 2, 3]\n",
    "y = [4, 5, 10]"
   ]
  },
  {
   "cell_type": "code",
   "execution_count": 6,
   "metadata": {},
   "outputs": [],
   "source": [
    "x = np.array(x)\n",
    "y = np.array(y)"
   ]
  },
  {
   "cell_type": "code",
   "execution_count": 7,
   "metadata": {},
   "outputs": [
    {
     "data": {
      "text/plain": [
       "array([1, 2, 3])"
      ]
     },
     "execution_count": 7,
     "metadata": {},
     "output_type": "execute_result"
    }
   ],
   "source": [
    "x"
   ]
  },
  {
   "cell_type": "code",
   "execution_count": 8,
   "metadata": {},
   "outputs": [
    {
     "data": {
      "text/plain": [
       "array([ 4,  5, 10])"
      ]
     },
     "execution_count": 8,
     "metadata": {},
     "output_type": "execute_result"
    }
   ],
   "source": [
    "y"
   ]
  },
  {
   "cell_type": "code",
   "execution_count": 12,
   "metadata": {},
   "outputs": [
    {
     "data": {
      "text/plain": [
       "array([0.25, 0.4 , 0.3 ])"
      ]
     },
     "execution_count": 12,
     "metadata": {},
     "output_type": "execute_result"
    }
   ],
   "source": [
    "x / y"
   ]
  },
  {
   "cell_type": "code",
   "execution_count": 13,
   "metadata": {},
   "outputs": [
    {
     "data": {
      "text/plain": [
       "array([2.1, 3.1, 4.1])"
      ]
     },
     "execution_count": 13,
     "metadata": {},
     "output_type": "execute_result"
    }
   ],
   "source": [
    "x + 1.1"
   ]
  },
  {
   "cell_type": "code",
   "execution_count": 18,
   "metadata": {},
   "outputs": [],
   "source": [
    "x = np.random.rand(10000)"
   ]
  },
  {
   "cell_type": "code",
   "execution_count": 23,
   "metadata": {},
   "outputs": [
    {
     "data": {
      "text/plain": [
       "array([0.32529511, 0.73474794, 0.42773188, ..., 0.44229561, 0.65023992,\n",
       "       0.90476618])"
      ]
     },
     "execution_count": 23,
     "metadata": {},
     "output_type": "execute_result"
    }
   ],
   "source": [
    "x"
   ]
  },
  {
   "cell_type": "code",
   "execution_count": 24,
   "metadata": {},
   "outputs": [],
   "source": [
    "x_list = list(x)"
   ]
  },
  {
   "cell_type": "code",
   "execution_count": 25,
   "metadata": {},
   "outputs": [
    {
     "data": {
      "text/plain": [
       "numpy.ndarray"
      ]
     },
     "execution_count": 25,
     "metadata": {},
     "output_type": "execute_result"
    }
   ],
   "source": [
    "type(x)"
   ]
  },
  {
   "cell_type": "code",
   "execution_count": 26,
   "metadata": {},
   "outputs": [
    {
     "data": {
      "text/plain": [
       "list"
      ]
     },
     "execution_count": 26,
     "metadata": {},
     "output_type": "execute_result"
    }
   ],
   "source": [
    "type(x_list)"
   ]
  },
  {
   "cell_type": "code",
   "execution_count": 27,
   "metadata": {},
   "outputs": [
    {
     "data": {
      "text/plain": [
       "0.3252951090969898"
      ]
     },
     "execution_count": 27,
     "metadata": {},
     "output_type": "execute_result"
    }
   ],
   "source": [
    "x[0]"
   ]
  },
  {
   "cell_type": "code",
   "execution_count": 28,
   "metadata": {},
   "outputs": [
    {
     "data": {
      "text/plain": [
       "0.3252951090969898"
      ]
     },
     "execution_count": 28,
     "metadata": {},
     "output_type": "execute_result"
    }
   ],
   "source": [
    "x_list[0]"
   ]
  },
  {
   "cell_type": "code",
   "execution_count": 33,
   "metadata": {},
   "outputs": [
    {
     "name": "stdout",
     "output_type": "stream",
     "text": [
      "1.39 ms ± 64.5 µs per loop (mean ± std. dev. of 7 runs, 1000 loops each)\n"
     ]
    }
   ],
   "source": [
    "speed_1 = %timeit -o sum(x_list)"
   ]
  },
  {
   "cell_type": "code",
   "execution_count": 34,
   "metadata": {},
   "outputs": [
    {
     "name": "stdout",
     "output_type": "stream",
     "text": [
      "13 µs ± 484 ns per loop (mean ± std. dev. of 7 runs, 100000 loops each)\n"
     ]
    }
   ],
   "source": [
    "speed_2 = %timeit -o x.sum()"
   ]
  },
  {
   "cell_type": "code",
   "execution_count": 36,
   "metadata": {},
   "outputs": [
    {
     "data": {
      "text/plain": [
       "106.58142804245611"
      ]
     },
     "execution_count": 36,
     "metadata": {},
     "output_type": "execute_result"
    }
   ],
   "source": [
    "speed_1.average / speed_2.average"
   ]
  },
  {
   "cell_type": "code",
   "execution_count": 39,
   "metadata": {},
   "outputs": [
    {
     "data": {
      "text/plain": [
       "3501"
      ]
     },
     "execution_count": 39,
     "metadata": {},
     "output_type": "execute_result"
    }
   ],
   "source": [
    "(x > 0.65).sum()"
   ]
  },
  {
   "cell_type": "code",
   "execution_count": 41,
   "metadata": {},
   "outputs": [
    {
     "name": "stdout",
     "output_type": "stream",
     "text": [
      "55.4 ms ± 4.2 ms per loop (mean ± std. dev. of 7 runs, 10 loops each)\n"
     ]
    }
   ],
   "source": [
    "speed_1 = %timeit -o sum([x_i > 0.65 for x_i in x_list])"
   ]
  },
  {
   "cell_type": "code",
   "execution_count": 42,
   "metadata": {},
   "outputs": [
    {
     "name": "stdout",
     "output_type": "stream",
     "text": [
      "37.2 µs ± 724 ns per loop (mean ± std. dev. of 7 runs, 10000 loops each)\n"
     ]
    }
   ],
   "source": [
    "speed_2 = %timeit -o (x > 0.65).sum()"
   ]
  },
  {
   "cell_type": "code",
   "execution_count": 43,
   "metadata": {},
   "outputs": [
    {
     "data": {
      "text/plain": [
       "1488.820500327192"
      ]
     },
     "execution_count": 43,
     "metadata": {},
     "output_type": "execute_result"
    }
   ],
   "source": [
    "speed_1.average / speed_2.average"
   ]
  },
  {
   "cell_type": "code",
   "execution_count": 44,
   "metadata": {},
   "outputs": [
    {
     "data": {
      "text/plain": [
       "array([0.32529511, 0.73474794, 0.42773188, ..., 0.44229561, 0.65023992,\n",
       "       0.90476618])"
      ]
     },
     "execution_count": 44,
     "metadata": {},
     "output_type": "execute_result"
    }
   ],
   "source": [
    "x"
   ]
  },
  {
   "cell_type": "code",
   "execution_count": 45,
   "metadata": {},
   "outputs": [
    {
     "data": {
      "text/plain": [
       "0.3252951090969898"
      ]
     },
     "execution_count": 45,
     "metadata": {},
     "output_type": "execute_result"
    }
   ],
   "source": [
    "x[0]"
   ]
  },
  {
   "cell_type": "code",
   "execution_count": 46,
   "metadata": {},
   "outputs": [
    {
     "data": {
      "text/plain": [
       "0.8326689878685428"
      ]
     },
     "execution_count": 46,
     "metadata": {},
     "output_type": "execute_result"
    }
   ],
   "source": [
    "x[100]"
   ]
  },
  {
   "cell_type": "code",
   "execution_count": 47,
   "metadata": {},
   "outputs": [
    {
     "data": {
      "text/plain": [
       "0.6729876888839729"
      ]
     },
     "execution_count": 47,
     "metadata": {},
     "output_type": "execute_result"
    }
   ],
   "source": [
    "x[111]"
   ]
  },
  {
   "cell_type": "code",
   "execution_count": 54,
   "metadata": {},
   "outputs": [
    {
     "data": {
      "text/plain": [
       "array([0.32529511, 0.42773188, 0.78851244, ..., 0.08316603, 0.84523646,\n",
       "       0.65023992])"
      ]
     },
     "execution_count": 54,
     "metadata": {},
     "output_type": "execute_result"
    }
   ],
   "source": [
    "x[::2]"
   ]
  },
  {
   "cell_type": "code",
   "execution_count": 67,
   "metadata": {},
   "outputs": [
    {
     "data": {
      "text/plain": [
       "array([0.32529511, 0.83266899, 0.65280853, ..., 0.77861924, 0.62811163,\n",
       "       0.09318556])"
      ]
     },
     "execution_count": 67,
     "metadata": {},
     "output_type": "execute_result"
    }
   ],
   "source": [
    "x[::100]"
   ]
  },
  {
   "cell_type": "code",
   "execution_count": 122,
   "metadata": {},
   "outputs": [],
   "source": [
    "x = np.random.rand(10,2,3)"
   ]
  },
  {
   "cell_type": "code",
   "execution_count": 76,
   "metadata": {},
   "outputs": [],
   "source": [
    "x = np.random.uniform(size = (10, 5, 10))"
   ]
  },
  {
   "cell_type": "code",
   "execution_count": 92,
   "metadata": {
    "scrolled": false
   },
   "outputs": [
    {
     "data": {
      "text/plain": [
       "array([[3.14, 3.14],\n",
       "       [3.14, 3.14],\n",
       "       [3.14, 3.14],\n",
       "       [3.14, 3.14],\n",
       "       [3.14, 3.14],\n",
       "       [3.14, 3.14],\n",
       "       [3.14, 3.14],\n",
       "       [3.14, 3.14],\n",
       "       [3.14, 3.14],\n",
       "       [3.14, 3.14]])"
      ]
     },
     "execution_count": 92,
     "metadata": {},
     "output_type": "execute_result"
    }
   ],
   "source": [
    "np.full((10, 2), 3.14)"
   ]
  },
  {
   "cell_type": "code",
   "execution_count": 102,
   "metadata": {},
   "outputs": [],
   "source": [
    "x = np.ones(10, dtype=np.bool)"
   ]
  },
  {
   "cell_type": "code",
   "execution_count": 103,
   "metadata": {},
   "outputs": [
    {
     "data": {
      "text/plain": [
       "numpy.ndarray"
      ]
     },
     "execution_count": 103,
     "metadata": {},
     "output_type": "execute_result"
    }
   ],
   "source": [
    "type(x)"
   ]
  },
  {
   "cell_type": "code",
   "execution_count": 104,
   "metadata": {},
   "outputs": [
    {
     "data": {
      "text/plain": [
       "dtype('bool')"
      ]
     },
     "execution_count": 104,
     "metadata": {},
     "output_type": "execute_result"
    }
   ],
   "source": [
    "x.dtype"
   ]
  },
  {
   "cell_type": "code",
   "execution_count": 105,
   "metadata": {},
   "outputs": [
    {
     "data": {
      "text/plain": [
       "array([ True,  True,  True,  True,  True,  True,  True,  True,  True,\n",
       "        True])"
      ]
     },
     "execution_count": 105,
     "metadata": {},
     "output_type": "execute_result"
    }
   ],
   "source": [
    "x"
   ]
  },
  {
   "cell_type": "code",
   "execution_count": 108,
   "metadata": {},
   "outputs": [
    {
     "data": {
      "text/plain": [
       "array([0.97058713, 0.97238236, 0.71387343, 0.48957487, 0.67576948,\n",
       "       0.75362392, 0.47799818, 0.74990568, 0.4600405 , 0.05378973])"
      ]
     },
     "execution_count": 108,
     "metadata": {},
     "output_type": "execute_result"
    }
   ],
   "source": [
    "x"
   ]
  },
  {
   "cell_type": "code",
   "execution_count": null,
   "metadata": {},
   "outputs": [],
   "source": []
  },
  {
   "cell_type": "code",
   "execution_count": 109,
   "metadata": {},
   "outputs": [],
   "source": [
    "x.dtype = np.bool"
   ]
  },
  {
   "cell_type": "code",
   "execution_count": 110,
   "metadata": {},
   "outputs": [
    {
     "data": {
      "text/plain": [
       "array([ True,  True,  True,  True,  True,  True,  True,  True,  True,\n",
       "        True,  True,  True,  True,  True,  True,  True,  True,  True,\n",
       "        True,  True,  True,  True,  True,  True,  True,  True,  True,\n",
       "        True,  True,  True,  True,  True,  True,  True,  True,  True,\n",
       "        True,  True,  True,  True,  True,  True,  True,  True,  True,\n",
       "        True,  True,  True,  True,  True,  True,  True,  True,  True,\n",
       "        True,  True,  True,  True,  True,  True,  True,  True,  True,\n",
       "        True,  True,  True,  True,  True,  True,  True,  True,  True,\n",
       "        True,  True,  True,  True,  True,  True,  True,  True])"
      ]
     },
     "execution_count": 110,
     "metadata": {},
     "output_type": "execute_result"
    }
   ],
   "source": [
    "x"
   ]
  },
  {
   "cell_type": "code",
   "execution_count": 111,
   "metadata": {},
   "outputs": [],
   "source": [
    "x = 12.1"
   ]
  },
  {
   "cell_type": "code",
   "execution_count": 112,
   "metadata": {},
   "outputs": [
    {
     "data": {
      "text/plain": [
       "12.1"
      ]
     },
     "execution_count": 112,
     "metadata": {},
     "output_type": "execute_result"
    }
   ],
   "source": [
    "x"
   ]
  },
  {
   "cell_type": "code",
   "execution_count": 113,
   "metadata": {},
   "outputs": [
    {
     "data": {
      "text/plain": [
       "float"
      ]
     },
     "execution_count": 113,
     "metadata": {},
     "output_type": "execute_result"
    }
   ],
   "source": [
    "type(x)"
   ]
  },
  {
   "cell_type": "code",
   "execution_count": 114,
   "metadata": {},
   "outputs": [
    {
     "data": {
      "text/plain": [
       "12"
      ]
     },
     "execution_count": 114,
     "metadata": {},
     "output_type": "execute_result"
    }
   ],
   "source": [
    "int(x)"
   ]
  },
  {
   "cell_type": "code",
   "execution_count": 115,
   "metadata": {},
   "outputs": [
    {
     "data": {
      "text/plain": [
       "True"
      ]
     },
     "execution_count": 115,
     "metadata": {},
     "output_type": "execute_result"
    }
   ],
   "source": [
    "bool(x)"
   ]
  },
  {
   "cell_type": "code",
   "execution_count": 117,
   "metadata": {},
   "outputs": [
    {
     "data": {
      "text/plain": [
       "False"
      ]
     },
     "execution_count": 117,
     "metadata": {},
     "output_type": "execute_result"
    }
   ],
   "source": [
    "bool(0.0)"
   ]
  },
  {
   "cell_type": "code",
   "execution_count": 118,
   "metadata": {},
   "outputs": [
    {
     "ename": "TypeError",
     "evalue": "int() argument must be a string, a bytes-like object or a number, not 'list'",
     "output_type": "error",
     "traceback": [
      "\u001b[0;31m---------------------------------------------------------------------------\u001b[0m",
      "\u001b[0;31mTypeError\u001b[0m                                 Traceback (most recent call last)",
      "\u001b[0;32m<ipython-input-118-7692ceb95192>\u001b[0m in \u001b[0;36m<module>\u001b[0;34m\u001b[0m\n\u001b[0;32m----> 1\u001b[0;31m \u001b[0mint\u001b[0m\u001b[0;34m(\u001b[0m\u001b[0;34m[\u001b[0m\u001b[0;36m1\u001b[0m\u001b[0;34m,\u001b[0m \u001b[0;36m2\u001b[0m\u001b[0;34m,\u001b[0m \u001b[0;36m3\u001b[0m\u001b[0;34m]\u001b[0m\u001b[0;34m)\u001b[0m\u001b[0;34m\u001b[0m\u001b[0;34m\u001b[0m\u001b[0m\n\u001b[0m",
      "\u001b[0;31mTypeError\u001b[0m: int() argument must be a string, a bytes-like object or a number, not 'list'"
     ]
    }
   ],
   "source": [
    "int([1, 2, 3])"
   ]
  },
  {
   "cell_type": "code",
   "execution_count": 120,
   "metadata": {},
   "outputs": [
    {
     "data": {
      "text/plain": [
       "[1, 2, 3]"
      ]
     },
     "execution_count": 120,
     "metadata": {},
     "output_type": "execute_result"
    }
   ],
   "source": [
    "list(map(int, [1.1, 2.7, 3]))"
   ]
  },
  {
   "cell_type": "code",
   "execution_count": 147,
   "metadata": {},
   "outputs": [],
   "source": [
    "x = np.random.rand(1000)"
   ]
  },
  {
   "cell_type": "code",
   "execution_count": 148,
   "metadata": {},
   "outputs": [
    {
     "data": {
      "text/plain": [
       "array([0.31389871, 0.61093937, 0.54290651, ..., 0.85487607, 0.56222347,\n",
       "       0.78783648])"
      ]
     },
     "execution_count": 148,
     "metadata": {},
     "output_type": "execute_result"
    }
   ],
   "source": [
    "x"
   ]
  },
  {
   "cell_type": "code",
   "execution_count": 149,
   "metadata": {},
   "outputs": [],
   "source": [
    "y = x[0:10]"
   ]
  },
  {
   "cell_type": "code",
   "execution_count": 152,
   "metadata": {},
   "outputs": [
    {
     "data": {
      "text/plain": [
       "array([0.31389871, 0.61093937, 0.54290651, ..., 0.85487607, 0.56222347,\n",
       "       0.78783648])"
      ]
     },
     "execution_count": 152,
     "metadata": {},
     "output_type": "execute_result"
    }
   ],
   "source": [
    "x "
   ]
  },
  {
   "cell_type": "code",
   "execution_count": 153,
   "metadata": {},
   "outputs": [
    {
     "data": {
      "text/plain": [
       "array([0.31389871, 0.61093937, 0.54290651, 0.57752962, 0.51228125,\n",
       "       0.61604771, 0.18386913, 0.91203489, 0.10373117, 0.28896534])"
      ]
     },
     "execution_count": 153,
     "metadata": {},
     "output_type": "execute_result"
    }
   ],
   "source": [
    "y"
   ]
  },
  {
   "cell_type": "code",
   "execution_count": 154,
   "metadata": {},
   "outputs": [],
   "source": [
    "x += 1"
   ]
  },
  {
   "cell_type": "code",
   "execution_count": 155,
   "metadata": {},
   "outputs": [
    {
     "data": {
      "text/plain": [
       "array([1.31389871, 1.61093937, 1.54290651, ..., 1.85487607, 1.56222347,\n",
       "       1.78783648])"
      ]
     },
     "execution_count": 155,
     "metadata": {},
     "output_type": "execute_result"
    }
   ],
   "source": [
    "x"
   ]
  },
  {
   "cell_type": "code",
   "execution_count": 156,
   "metadata": {},
   "outputs": [
    {
     "data": {
      "text/plain": [
       "array([1.31389871, 1.61093937, 1.54290651, 1.57752962, 1.51228125,\n",
       "       1.61604771, 1.18386913, 1.91203489, 1.10373117, 1.28896534])"
      ]
     },
     "execution_count": 156,
     "metadata": {},
     "output_type": "execute_result"
    }
   ],
   "source": [
    "y"
   ]
  },
  {
   "cell_type": "code",
   "execution_count": 157,
   "metadata": {},
   "outputs": [],
   "source": [
    "x = np.random.rand(10, 3)"
   ]
  },
  {
   "cell_type": "code",
   "execution_count": 158,
   "metadata": {},
   "outputs": [
    {
     "data": {
      "text/plain": [
       "array([[0.81667594, 0.08637487, 0.68117205],\n",
       "       [0.67363437, 0.0321019 , 0.73234833],\n",
       "       [0.24124734, 0.59545111, 0.71145552],\n",
       "       [0.86074075, 0.24288785, 0.57027877],\n",
       "       [0.35116858, 0.3612141 , 0.58239069],\n",
       "       [0.80036997, 0.45240958, 0.11631252],\n",
       "       [0.44767018, 0.02069714, 0.98825204],\n",
       "       [0.13763143, 0.46596305, 0.15029576],\n",
       "       [0.57483415, 0.1126058 , 0.45731206],\n",
       "       [0.76022998, 0.75804305, 0.39966317]])"
      ]
     },
     "execution_count": 158,
     "metadata": {},
     "output_type": "execute_result"
    }
   ],
   "source": [
    "x"
   ]
  },
  {
   "cell_type": "code",
   "execution_count": 159,
   "metadata": {},
   "outputs": [
    {
     "data": {
      "text/plain": [
       "14.181432063585369"
      ]
     },
     "execution_count": 159,
     "metadata": {},
     "output_type": "execute_result"
    }
   ],
   "source": [
    "x.sum()"
   ]
  },
  {
   "cell_type": "code",
   "execution_count": 160,
   "metadata": {},
   "outputs": [
    {
     "data": {
      "text/plain": [
       "array([5.66420269, 3.12774847, 5.3894809 ])"
      ]
     },
     "execution_count": 160,
     "metadata": {},
     "output_type": "execute_result"
    }
   ],
   "source": [
    "x.sum(axis = 0)"
   ]
  },
  {
   "cell_type": "code",
   "execution_count": 161,
   "metadata": {},
   "outputs": [
    {
     "data": {
      "text/plain": [
       "array([1.58422287, 1.4380846 , 1.54815397, 1.67390736, 1.29477337,\n",
       "       1.36909207, 1.45661936, 0.75389025, 1.14475202, 1.91793619])"
      ]
     },
     "execution_count": 161,
     "metadata": {},
     "output_type": "execute_result"
    }
   ],
   "source": [
    "x.sum(axis = 1)"
   ]
  },
  {
   "cell_type": "code",
   "execution_count": 162,
   "metadata": {},
   "outputs": [],
   "source": [
    "x = np.random.rand(10, 3, 5)"
   ]
  },
  {
   "cell_type": "code",
   "execution_count": 163,
   "metadata": {},
   "outputs": [
    {
     "data": {
      "text/plain": [
       "array([[1.8272487 , 2.14130565, 2.93311241],\n",
       "       [3.10495761, 1.00220737, 1.53912375],\n",
       "       [1.18213134, 1.98107236, 2.86430378],\n",
       "       [2.86330554, 1.24226016, 2.56768979],\n",
       "       [2.41849284, 2.41994739, 1.21964521],\n",
       "       [3.04451682, 2.14382607, 3.3691311 ],\n",
       "       [3.20679916, 2.74255416, 2.71809573],\n",
       "       [3.00230855, 3.03015861, 2.91740005],\n",
       "       [2.20701745, 2.79781557, 2.89757007],\n",
       "       [2.97448413, 1.92515645, 3.46150133]])"
      ]
     },
     "execution_count": 163,
     "metadata": {},
     "output_type": "execute_result"
    }
   ],
   "source": [
    "x.sum(axis = 2)"
   ]
  },
  {
   "cell_type": "code",
   "execution_count": 164,
   "metadata": {},
   "outputs": [],
   "source": [
    "x = np.random.rand(10, 3)"
   ]
  },
  {
   "cell_type": "code",
   "execution_count": 168,
   "metadata": {},
   "outputs": [
    {
     "data": {
      "text/plain": [
       "array([[0.82602649, 0.45579101, 0.05334771],\n",
       "       [0.45355714, 0.22410523, 0.54396782],\n",
       "       [0.37202394, 0.09656626, 0.87822392],\n",
       "       [0.54520867, 0.13017213, 0.8954115 ],\n",
       "       [0.31376946, 0.7462505 , 0.80362045],\n",
       "       [0.02768311, 0.22676542, 0.21394625],\n",
       "       [0.55970854, 0.63376936, 0.05688279],\n",
       "       [0.00851934, 0.85930592, 0.76058409],\n",
       "       [0.14554917, 0.181052  , 0.73669857],\n",
       "       [0.78507242, 0.40953137, 0.24327413]])"
      ]
     },
     "execution_count": 168,
     "metadata": {},
     "output_type": "execute_result"
    }
   ],
   "source": [
    "x"
   ]
  },
  {
   "cell_type": "code",
   "execution_count": 171,
   "metadata": {},
   "outputs": [
    {
     "data": {
      "text/plain": [
       "array([[0.82602649, 1.2818175 , 1.33516521],\n",
       "       [0.45355714, 0.67766236, 1.22163018],\n",
       "       [0.37202394, 0.4685902 , 1.34681412],\n",
       "       [0.54520867, 0.6753808 , 1.57079231],\n",
       "       [0.31376946, 1.06001995, 1.8636404 ],\n",
       "       [0.02768311, 0.25444853, 0.46839478],\n",
       "       [0.55970854, 1.1934779 , 1.2503607 ],\n",
       "       [0.00851934, 0.86782527, 1.62840936],\n",
       "       [0.14554917, 0.32660117, 1.06329974],\n",
       "       [0.78507242, 1.19460379, 1.43787792]])"
      ]
     },
     "execution_count": 171,
     "metadata": {},
     "output_type": "execute_result"
    }
   ],
   "source": [
    "x.cumsum(axis=1)"
   ]
  },
  {
   "cell_type": "code",
   "execution_count": 174,
   "metadata": {},
   "outputs": [
    {
     "data": {
      "text/plain": [
       "array([0.82602649, 0.54396782, 0.87822392, 0.8954115 , 0.80362045,\n",
       "       0.22676542, 0.63376936, 0.85930592, 0.73669857, 0.78507242])"
      ]
     },
     "execution_count": 174,
     "metadata": {},
     "output_type": "execute_result"
    }
   ],
   "source": [
    "x.max(axis=1)"
   ]
  },
  {
   "cell_type": "code",
   "execution_count": 176,
   "metadata": {},
   "outputs": [
    {
     "data": {
      "text/plain": [
       "array([[0.82602649, 0.45579101, 0.05334771],\n",
       "       [0.45355714, 0.22410523, 0.54396782],\n",
       "       [0.37202394, 0.09656626, 0.87822392],\n",
       "       [0.54520867, 0.13017213, 0.8954115 ],\n",
       "       [0.31376946, 0.7462505 , 0.80362045],\n",
       "       [0.02768311, 0.22676542, 0.21394625],\n",
       "       [0.55970854, 0.63376936, 0.05688279],\n",
       "       [0.00851934, 0.85930592, 0.76058409],\n",
       "       [0.14554917, 0.181052  , 0.73669857],\n",
       "       [0.78507242, 0.40953137, 0.24327413]])"
      ]
     },
     "execution_count": 176,
     "metadata": {},
     "output_type": "execute_result"
    }
   ],
   "source": [
    "x"
   ]
  },
  {
   "cell_type": "code",
   "execution_count": 175,
   "metadata": {},
   "outputs": [
    {
     "data": {
      "text/plain": [
       "array([0, 7, 3])"
      ]
     },
     "execution_count": 175,
     "metadata": {},
     "output_type": "execute_result"
    }
   ],
   "source": [
    "x.argmax(axis=0)"
   ]
  },
  {
   "cell_type": "code",
   "execution_count": 177,
   "metadata": {},
   "outputs": [
    {
     "data": {
      "text/plain": [
       "array([0.82602649, 0.85930592, 0.8954115 ])"
      ]
     },
     "execution_count": 177,
     "metadata": {},
     "output_type": "execute_result"
    }
   ],
   "source": [
    "x.max(axis = 0)"
   ]
  },
  {
   "cell_type": "code",
   "execution_count": 178,
   "metadata": {},
   "outputs": [
    {
     "data": {
      "text/plain": [
       "array([7, 2, 0])"
      ]
     },
     "execution_count": 178,
     "metadata": {},
     "output_type": "execute_result"
    }
   ],
   "source": [
    "x.argmin(axis=0)"
   ]
  },
  {
   "cell_type": "code",
   "execution_count": 179,
   "metadata": {},
   "outputs": [],
   "source": [
    "x.sort(axis =0)"
   ]
  },
  {
   "cell_type": "code",
   "execution_count": 180,
   "metadata": {},
   "outputs": [
    {
     "data": {
      "text/plain": [
       "array([[0.00851934, 0.09656626, 0.05334771],\n",
       "       [0.02768311, 0.13017213, 0.05688279],\n",
       "       [0.14554917, 0.181052  , 0.21394625],\n",
       "       [0.31376946, 0.22410523, 0.24327413],\n",
       "       [0.37202394, 0.22676542, 0.54396782],\n",
       "       [0.45355714, 0.40953137, 0.73669857],\n",
       "       [0.54520867, 0.45579101, 0.76058409],\n",
       "       [0.55970854, 0.63376936, 0.80362045],\n",
       "       [0.78507242, 0.7462505 , 0.87822392],\n",
       "       [0.82602649, 0.85930592, 0.8954115 ]])"
      ]
     },
     "execution_count": 180,
     "metadata": {},
     "output_type": "execute_result"
    }
   ],
   "source": [
    "x"
   ]
  },
  {
   "cell_type": "code",
   "execution_count": 181,
   "metadata": {},
   "outputs": [
    {
     "data": {
      "text/plain": [
       "array([[0.00851934, 0.09656626, 0.05334771],\n",
       "       [0.02768311, 0.13017213, 0.05688279],\n",
       "       [0.14554917, 0.181052  , 0.21394625],\n",
       "       [0.31376946, 0.22410523, 0.24327413],\n",
       "       [0.37202394, 0.22676542, 0.54396782],\n",
       "       [0.45355714, 0.40953137, 0.73669857],\n",
       "       [0.54520867, 0.45579101, 0.76058409],\n",
       "       [0.55970854, 0.63376936, 0.80362045],\n",
       "       [0.78507242, 0.7462505 , 0.87822392],\n",
       "       [0.82602649, 0.85930592, 0.8954115 ]])"
      ]
     },
     "execution_count": 181,
     "metadata": {},
     "output_type": "execute_result"
    }
   ],
   "source": [
    "x"
   ]
  },
  {
   "cell_type": "code",
   "execution_count": 182,
   "metadata": {},
   "outputs": [
    {
     "data": {
      "text/plain": [
       "array([4.03711828, 3.9633092 , 5.18595724])"
      ]
     },
     "execution_count": 182,
     "metadata": {},
     "output_type": "execute_result"
    }
   ],
   "source": [
    "x.sum(axis =0)"
   ]
  },
  {
   "cell_type": "code",
   "execution_count": 184,
   "metadata": {},
   "outputs": [
    {
     "ename": "AttributeError",
     "evalue": "'numpy.ndarray' object has no attribute 'median'",
     "output_type": "error",
     "traceback": [
      "\u001b[0;31m---------------------------------------------------------------------------\u001b[0m",
      "\u001b[0;31mAttributeError\u001b[0m                            Traceback (most recent call last)",
      "\u001b[0;32m<ipython-input-184-242a2d196c0e>\u001b[0m in \u001b[0;36m<module>\u001b[0;34m\u001b[0m\n\u001b[0;32m----> 1\u001b[0;31m \u001b[0mx\u001b[0m\u001b[0;34m.\u001b[0m\u001b[0mmedian\u001b[0m\u001b[0;34m(\u001b[0m\u001b[0maxis\u001b[0m \u001b[0;34m=\u001b[0m \u001b[0;36m0\u001b[0m\u001b[0;34m)\u001b[0m\u001b[0;34m\u001b[0m\u001b[0;34m\u001b[0m\u001b[0m\n\u001b[0m",
      "\u001b[0;31mAttributeError\u001b[0m: 'numpy.ndarray' object has no attribute 'median'"
     ]
    }
   ],
   "source": [
    "x.median(axis = 0)"
   ]
  },
  {
   "cell_type": "code",
   "execution_count": 185,
   "metadata": {},
   "outputs": [
    {
     "data": {
      "text/plain": [
       "array([0.41279054, 0.31814839, 0.64033319])"
      ]
     },
     "execution_count": 185,
     "metadata": {},
     "output_type": "execute_result"
    }
   ],
   "source": [
    "np.median(x, axis=0)"
   ]
  },
  {
   "cell_type": "code",
   "execution_count": 186,
   "metadata": {},
   "outputs": [
    {
     "data": {
      "text/plain": [
       "array([0.40371183, 0.39633092, 0.51859572])"
      ]
     },
     "execution_count": 186,
     "metadata": {},
     "output_type": "execute_result"
    }
   ],
   "source": [
    "x.mean(axis = 0)"
   ]
  },
  {
   "cell_type": "code",
   "execution_count": 188,
   "metadata": {},
   "outputs": [],
   "source": [
    "x = np.random.rand(10, 3)"
   ]
  },
  {
   "cell_type": "code",
   "execution_count": 189,
   "metadata": {},
   "outputs": [],
   "source": [
    "y = np.random.rand(5, 3)"
   ]
  },
  {
   "cell_type": "code",
   "execution_count": 190,
   "metadata": {},
   "outputs": [
    {
     "data": {
      "text/plain": [
       "array([[0.69637111, 0.66444139, 0.38339166],\n",
       "       [0.64242896, 0.21725823, 0.32317457],\n",
       "       [0.07299015, 0.6468958 , 0.71912861],\n",
       "       [0.49397987, 0.80529549, 0.73453339],\n",
       "       [0.72991917, 0.77567316, 0.10259317],\n",
       "       [0.16851091, 0.31231271, 0.93255034],\n",
       "       [0.22073245, 0.19707639, 0.86810839],\n",
       "       [0.84257633, 0.03441338, 0.9326556 ],\n",
       "       [0.89014712, 0.35810623, 0.10195867],\n",
       "       [0.58978152, 0.16945091, 0.65050642]])"
      ]
     },
     "execution_count": 190,
     "metadata": {},
     "output_type": "execute_result"
    }
   ],
   "source": [
    "x\n"
   ]
  },
  {
   "cell_type": "code",
   "execution_count": 191,
   "metadata": {},
   "outputs": [
    {
     "data": {
      "text/plain": [
       "array([[0.2385312 , 0.46315562, 0.32632409],\n",
       "       [0.58018636, 0.07431591, 0.64784793],\n",
       "       [0.41227299, 0.09546046, 0.72494011],\n",
       "       [0.44304115, 0.83274299, 0.29147078],\n",
       "       [0.56019584, 0.11585983, 0.53018199]])"
      ]
     },
     "execution_count": 191,
     "metadata": {},
     "output_type": "execute_result"
    }
   ],
   "source": [
    "y"
   ]
  },
  {
   "cell_type": "code",
   "execution_count": 192,
   "metadata": {},
   "outputs": [
    {
     "data": {
      "text/plain": [
       "array([[0.69637111, 0.66444139, 0.38339166],\n",
       "       [0.64242896, 0.21725823, 0.32317457],\n",
       "       [0.07299015, 0.6468958 , 0.71912861],\n",
       "       [0.49397987, 0.80529549, 0.73453339],\n",
       "       [0.72991917, 0.77567316, 0.10259317],\n",
       "       [0.16851091, 0.31231271, 0.93255034],\n",
       "       [0.22073245, 0.19707639, 0.86810839],\n",
       "       [0.84257633, 0.03441338, 0.9326556 ],\n",
       "       [0.89014712, 0.35810623, 0.10195867],\n",
       "       [0.58978152, 0.16945091, 0.65050642],\n",
       "       [0.2385312 , 0.46315562, 0.32632409],\n",
       "       [0.58018636, 0.07431591, 0.64784793],\n",
       "       [0.41227299, 0.09546046, 0.72494011],\n",
       "       [0.44304115, 0.83274299, 0.29147078],\n",
       "       [0.56019584, 0.11585983, 0.53018199]])"
      ]
     },
     "execution_count": 192,
     "metadata": {},
     "output_type": "execute_result"
    }
   ],
   "source": [
    "np.vstack((x, y))"
   ]
  },
  {
   "cell_type": "code",
   "execution_count": 193,
   "metadata": {},
   "outputs": [
    {
     "data": {
      "text/plain": [
       "array([[0.69637111, 0.66444139, 0.38339166],\n",
       "       [0.64242896, 0.21725823, 0.32317457],\n",
       "       [0.07299015, 0.6468958 , 0.71912861],\n",
       "       [0.49397987, 0.80529549, 0.73453339],\n",
       "       [0.72991917, 0.77567316, 0.10259317],\n",
       "       [0.16851091, 0.31231271, 0.93255034],\n",
       "       [0.22073245, 0.19707639, 0.86810839],\n",
       "       [0.84257633, 0.03441338, 0.9326556 ],\n",
       "       [0.89014712, 0.35810623, 0.10195867],\n",
       "       [0.58978152, 0.16945091, 0.65050642],\n",
       "       [0.2385312 , 0.46315562, 0.32632409],\n",
       "       [0.58018636, 0.07431591, 0.64784793],\n",
       "       [0.41227299, 0.09546046, 0.72494011],\n",
       "       [0.44304115, 0.83274299, 0.29147078],\n",
       "       [0.56019584, 0.11585983, 0.53018199]])"
      ]
     },
     "execution_count": 193,
     "metadata": {},
     "output_type": "execute_result"
    }
   ],
   "source": [
    "np.r_[x,y]"
   ]
  },
  {
   "cell_type": "code",
   "execution_count": 194,
   "metadata": {},
   "outputs": [],
   "source": [
    "z = numpy.random.rand(100)"
   ]
  },
  {
   "cell_type": "code",
   "execution_count": 195,
   "metadata": {},
   "outputs": [],
   "source": [
    "#(x >0.65).sum() "
   ]
  },
  {
   "cell_type": "code",
   "execution_count": 198,
   "metadata": {},
   "outputs": [
    {
     "data": {
      "text/plain": [
       "39"
      ]
     },
     "execution_count": 198,
     "metadata": {},
     "output_type": "execute_result"
    }
   ],
   "source": [
    "np.sum(z > 0.65)"
   ]
  },
  {
   "cell_type": "code",
   "execution_count": 200,
   "metadata": {},
   "outputs": [],
   "source": [
    "(z > 0.65).sum()"
   ]
  },
  {
   "cell_type": "code",
   "execution_count": 201,
   "metadata": {},
   "outputs": [
    {
     "data": {
      "text/plain": [
       "39"
      ]
     },
     "execution_count": 201,
     "metadata": {},
     "output_type": "execute_result"
    }
   ],
   "source": [
    "w = z > 0.65\n",
    "w.sum()"
   ]
  },
  {
   "cell_type": "code",
   "execution_count": 202,
   "metadata": {},
   "outputs": [
    {
     "data": {
      "text/plain": [
       "range(0, 10)"
      ]
     },
     "execution_count": 202,
     "metadata": {},
     "output_type": "execute_result"
    }
   ],
   "source": [
    "range(10)"
   ]
  },
  {
   "cell_type": "code",
   "execution_count": 203,
   "metadata": {},
   "outputs": [
    {
     "data": {
      "text/plain": [
       "array([[0.69637111, 0.66444139, 0.38339166],\n",
       "       [0.64242896, 0.21725823, 0.32317457],\n",
       "       [0.07299015, 0.6468958 , 0.71912861],\n",
       "       [0.49397987, 0.80529549, 0.73453339],\n",
       "       [0.72991917, 0.77567316, 0.10259317],\n",
       "       [0.16851091, 0.31231271, 0.93255034],\n",
       "       [0.22073245, 0.19707639, 0.86810839],\n",
       "       [0.84257633, 0.03441338, 0.9326556 ],\n",
       "       [0.89014712, 0.35810623, 0.10195867],\n",
       "       [0.58978152, 0.16945091, 0.65050642]])"
      ]
     },
     "execution_count": 203,
     "metadata": {},
     "output_type": "execute_result"
    }
   ],
   "source": [
    "x"
   ]
  },
  {
   "cell_type": "code",
   "execution_count": 207,
   "metadata": {},
   "outputs": [],
   "source": [
    "y = np.random.rand(10, 2)"
   ]
  },
  {
   "cell_type": "code",
   "execution_count": 208,
   "metadata": {},
   "outputs": [
    {
     "data": {
      "text/plain": [
       "array([[0.69637111, 0.66444139, 0.38339166, 0.08139946, 0.12966981],\n",
       "       [0.64242896, 0.21725823, 0.32317457, 0.73967624, 0.4559757 ],\n",
       "       [0.07299015, 0.6468958 , 0.71912861, 0.76797124, 0.91632375],\n",
       "       [0.49397987, 0.80529549, 0.73453339, 0.87107929, 0.30022665],\n",
       "       [0.72991917, 0.77567316, 0.10259317, 0.77085968, 0.02373335],\n",
       "       [0.16851091, 0.31231271, 0.93255034, 0.73711951, 0.53167683],\n",
       "       [0.22073245, 0.19707639, 0.86810839, 0.04270184, 0.15356904],\n",
       "       [0.84257633, 0.03441338, 0.9326556 , 0.42164892, 0.25721444],\n",
       "       [0.89014712, 0.35810623, 0.10195867, 0.64234732, 0.34947892],\n",
       "       [0.58978152, 0.16945091, 0.65050642, 0.06538608, 0.84766146]])"
      ]
     },
     "execution_count": 208,
     "metadata": {},
     "output_type": "execute_result"
    }
   ],
   "source": [
    "np.hstack((x,y))"
   ]
  },
  {
   "cell_type": "code",
   "execution_count": 209,
   "metadata": {},
   "outputs": [
    {
     "data": {
      "text/plain": [
       "(array([[0.69637111, 0.66444139, 0.38339166],\n",
       "        [0.64242896, 0.21725823, 0.32317457],\n",
       "        [0.07299015, 0.6468958 , 0.71912861],\n",
       "        [0.49397987, 0.80529549, 0.73453339],\n",
       "        [0.72991917, 0.77567316, 0.10259317],\n",
       "        [0.16851091, 0.31231271, 0.93255034],\n",
       "        [0.22073245, 0.19707639, 0.86810839],\n",
       "        [0.84257633, 0.03441338, 0.9326556 ],\n",
       "        [0.89014712, 0.35810623, 0.10195867],\n",
       "        [0.58978152, 0.16945091, 0.65050642]]),\n",
       " array([[0.08139946, 0.12966981],\n",
       "        [0.73967624, 0.4559757 ],\n",
       "        [0.76797124, 0.91632375],\n",
       "        [0.87107929, 0.30022665],\n",
       "        [0.77085968, 0.02373335],\n",
       "        [0.73711951, 0.53167683],\n",
       "        [0.04270184, 0.15356904],\n",
       "        [0.42164892, 0.25721444],\n",
       "        [0.64234732, 0.34947892],\n",
       "        [0.06538608, 0.84766146]]))"
      ]
     },
     "execution_count": 209,
     "metadata": {},
     "output_type": "execute_result"
    }
   ],
   "source": [
    "x, y\n"
   ]
  },
  {
   "cell_type": "code",
   "execution_count": 210,
   "metadata": {},
   "outputs": [
    {
     "data": {
      "text/plain": [
       "array([[0.69637111, 0.66444139, 0.38339166, 0.08139946, 0.12966981],\n",
       "       [0.64242896, 0.21725823, 0.32317457, 0.73967624, 0.4559757 ],\n",
       "       [0.07299015, 0.6468958 , 0.71912861, 0.76797124, 0.91632375],\n",
       "       [0.49397987, 0.80529549, 0.73453339, 0.87107929, 0.30022665],\n",
       "       [0.72991917, 0.77567316, 0.10259317, 0.77085968, 0.02373335],\n",
       "       [0.16851091, 0.31231271, 0.93255034, 0.73711951, 0.53167683],\n",
       "       [0.22073245, 0.19707639, 0.86810839, 0.04270184, 0.15356904],\n",
       "       [0.84257633, 0.03441338, 0.9326556 , 0.42164892, 0.25721444],\n",
       "       [0.89014712, 0.35810623, 0.10195867, 0.64234732, 0.34947892],\n",
       "       [0.58978152, 0.16945091, 0.65050642, 0.06538608, 0.84766146]])"
      ]
     },
     "execution_count": 210,
     "metadata": {},
     "output_type": "execute_result"
    }
   ],
   "source": [
    "np.c_[x,y]"
   ]
  },
  {
   "cell_type": "markdown",
   "metadata": {},
   "source": [
    "# Broadcasting"
   ]
  },
  {
   "cell_type": "code",
   "execution_count": 211,
   "metadata": {},
   "outputs": [],
   "source": [
    "x = np.random.rand(5)"
   ]
  },
  {
   "cell_type": "code",
   "execution_count": null,
   "metadata": {},
   "outputs": [],
   "source": []
  },
  {
   "cell_type": "code",
   "execution_count": 212,
   "metadata": {},
   "outputs": [
    {
     "data": {
      "text/plain": [
       "array([0.65045838, 0.53752055, 0.34434807, 0.25223743, 0.99242595])"
      ]
     },
     "execution_count": 212,
     "metadata": {},
     "output_type": "execute_result"
    }
   ],
   "source": [
    "x"
   ]
  },
  {
   "cell_type": "code",
   "execution_count": 213,
   "metadata": {},
   "outputs": [
    {
     "data": {
      "text/plain": [
       "array([1.65045838, 1.53752055, 1.34434807, 1.25223743, 1.99242595])"
      ]
     },
     "execution_count": 213,
     "metadata": {},
     "output_type": "execute_result"
    }
   ],
   "source": [
    "x + 1.0"
   ]
  },
  {
   "cell_type": "code",
   "execution_count": 214,
   "metadata": {},
   "outputs": [
    {
     "data": {
      "text/plain": [
       "array([0.65045838, 0.53752055, 0.34434807, 0.25223743, 0.99242595])"
      ]
     },
     "execution_count": 214,
     "metadata": {},
     "output_type": "execute_result"
    }
   ],
   "source": [
    "x"
   ]
  },
  {
   "cell_type": "code",
   "execution_count": 215,
   "metadata": {},
   "outputs": [],
   "source": [
    "y = np.random.rand(10, 5)"
   ]
  },
  {
   "cell_type": "code",
   "execution_count": 216,
   "metadata": {},
   "outputs": [
    {
     "data": {
      "text/plain": [
       "array([[0.09631779, 0.53349803, 0.56847575, 0.61809779, 0.53924942],\n",
       "       [0.52880531, 0.74521263, 0.61306057, 0.29518349, 0.98267792],\n",
       "       [0.75977914, 0.92025028, 0.63363018, 0.10041124, 0.51597239],\n",
       "       [0.49174354, 0.93176643, 0.38028942, 0.45096997, 0.12897319],\n",
       "       [0.52649174, 0.10733483, 0.80241957, 0.43833684, 0.70878441],\n",
       "       [0.30804038, 0.23345075, 0.60986876, 0.42534606, 0.99900952],\n",
       "       [0.5917852 , 0.39511589, 0.84817708, 0.5527792 , 0.60109119],\n",
       "       [0.38342105, 0.37001242, 0.93381579, 0.24720767, 0.00621821],\n",
       "       [0.80954809, 0.40098908, 0.5916726 , 0.50066323, 0.08140898],\n",
       "       [0.40781232, 0.59625077, 0.69632097, 0.07552305, 0.53585908]])"
      ]
     },
     "execution_count": 216,
     "metadata": {},
     "output_type": "execute_result"
    }
   ],
   "source": [
    "y\n"
   ]
  },
  {
   "cell_type": "code",
   "execution_count": 217,
   "metadata": {},
   "outputs": [
    {
     "data": {
      "text/plain": [
       "array([0.65045838, 0.53752055, 0.34434807, 0.25223743, 0.99242595])"
      ]
     },
     "execution_count": 217,
     "metadata": {},
     "output_type": "execute_result"
    }
   ],
   "source": [
    "x"
   ]
  },
  {
   "cell_type": "code",
   "execution_count": 218,
   "metadata": {},
   "outputs": [
    {
     "data": {
      "text/plain": [
       "array([[0.74677617, 1.07101858, 0.91282382, 0.87033522, 1.53167536],\n",
       "       [1.17926369, 1.28273318, 0.95740864, 0.54742092, 1.97510387],\n",
       "       [1.41023752, 1.45777083, 0.97797825, 0.35264867, 1.50839834],\n",
       "       [1.14220192, 1.46928697, 0.72463749, 0.7032074 , 1.12139914],\n",
       "       [1.17695012, 0.64485537, 1.14676764, 0.69057427, 1.70121036],\n",
       "       [0.95849876, 0.7709713 , 0.95421683, 0.67758349, 1.99143547],\n",
       "       [1.24224358, 0.93263644, 1.19252515, 0.80501663, 1.59351714],\n",
       "       [1.03387943, 0.90753296, 1.27816386, 0.49944509, 0.99864416],\n",
       "       [1.46000647, 0.93850962, 0.93602067, 0.75290066, 1.07383492],\n",
       "       [1.0582707 , 1.13377132, 1.04066904, 0.32776048, 1.52828502]])"
      ]
     },
     "execution_count": 218,
     "metadata": {},
     "output_type": "execute_result"
    }
   ],
   "source": [
    "x + y"
   ]
  },
  {
   "cell_type": "code",
   "execution_count": 220,
   "metadata": {},
   "outputs": [
    {
     "data": {
      "text/plain": [
       "(10, 5)"
      ]
     },
     "execution_count": 220,
     "metadata": {},
     "output_type": "execute_result"
    }
   ],
   "source": [
    "y.shape"
   ]
  },
  {
   "cell_type": "code",
   "execution_count": 223,
   "metadata": {},
   "outputs": [
    {
     "data": {
      "text/plain": [
       "array([0.09631779, 0.53349803, 0.56847575, 0.61809779, 0.53924942])"
      ]
     },
     "execution_count": 223,
     "metadata": {},
     "output_type": "execute_result"
    }
   ],
   "source": [
    "y[0]"
   ]
  },
  {
   "cell_type": "code",
   "execution_count": 224,
   "metadata": {},
   "outputs": [
    {
     "data": {
      "text/plain": [
       "array([0.65045838, 0.53752055, 0.34434807, 0.25223743, 0.99242595])"
      ]
     },
     "execution_count": 224,
     "metadata": {},
     "output_type": "execute_result"
    }
   ],
   "source": [
    "x "
   ]
  },
  {
   "cell_type": "code",
   "execution_count": 225,
   "metadata": {},
   "outputs": [
    {
     "data": {
      "text/plain": [
       "array([0.09631779, 0.53349803, 0.56847575, 0.61809779, 0.53924942])"
      ]
     },
     "execution_count": 225,
     "metadata": {},
     "output_type": "execute_result"
    }
   ],
   "source": [
    "y[0]"
   ]
  },
  {
   "cell_type": "code",
   "execution_count": 228,
   "metadata": {},
   "outputs": [
    {
     "data": {
      "text/plain": [
       "array([1.17926369, 1.28273318, 0.95740864, 0.54742092, 1.97510387])"
      ]
     },
     "execution_count": 228,
     "metadata": {},
     "output_type": "execute_result"
    }
   ],
   "source": [
    "x + y[1]"
   ]
  },
  {
   "cell_type": "code",
   "execution_count": 227,
   "metadata": {},
   "outputs": [
    {
     "data": {
      "text/plain": [
       "array([[0.74677617, 1.07101858, 0.91282382, 0.87033522, 1.53167536],\n",
       "       [1.17926369, 1.28273318, 0.95740864, 0.54742092, 1.97510387],\n",
       "       [1.41023752, 1.45777083, 0.97797825, 0.35264867, 1.50839834],\n",
       "       [1.14220192, 1.46928697, 0.72463749, 0.7032074 , 1.12139914],\n",
       "       [1.17695012, 0.64485537, 1.14676764, 0.69057427, 1.70121036],\n",
       "       [0.95849876, 0.7709713 , 0.95421683, 0.67758349, 1.99143547],\n",
       "       [1.24224358, 0.93263644, 1.19252515, 0.80501663, 1.59351714],\n",
       "       [1.03387943, 0.90753296, 1.27816386, 0.49944509, 0.99864416],\n",
       "       [1.46000647, 0.93850962, 0.93602067, 0.75290066, 1.07383492],\n",
       "       [1.0582707 , 1.13377132, 1.04066904, 0.32776048, 1.52828502]])"
      ]
     },
     "execution_count": 227,
     "metadata": {},
     "output_type": "execute_result"
    }
   ],
   "source": [
    "x + y"
   ]
  },
  {
   "cell_type": "code",
   "execution_count": 231,
   "metadata": {},
   "outputs": [
    {
     "data": {
      "text/plain": [
       "(10, 5)"
      ]
     },
     "execution_count": 231,
     "metadata": {},
     "output_type": "execute_result"
    }
   ],
   "source": [
    "y.shape"
   ]
  },
  {
   "cell_type": "code",
   "execution_count": 232,
   "metadata": {},
   "outputs": [
    {
     "data": {
      "text/plain": [
       "array([[0.09631779, 0.53349803, 0.56847575, 0.61809779, 0.53924942],\n",
       "       [0.52880531, 0.74521263, 0.61306057, 0.29518349, 0.98267792],\n",
       "       [0.75977914, 0.92025028, 0.63363018, 0.10041124, 0.51597239],\n",
       "       [0.49174354, 0.93176643, 0.38028942, 0.45096997, 0.12897319],\n",
       "       [0.52649174, 0.10733483, 0.80241957, 0.43833684, 0.70878441],\n",
       "       [0.30804038, 0.23345075, 0.60986876, 0.42534606, 0.99900952],\n",
       "       [0.5917852 , 0.39511589, 0.84817708, 0.5527792 , 0.60109119],\n",
       "       [0.38342105, 0.37001242, 0.93381579, 0.24720767, 0.00621821],\n",
       "       [0.80954809, 0.40098908, 0.5916726 , 0.50066323, 0.08140898],\n",
       "       [0.40781232, 0.59625077, 0.69632097, 0.07552305, 0.53585908]])"
      ]
     },
     "execution_count": 232,
     "metadata": {},
     "output_type": "execute_result"
    }
   ],
   "source": [
    "y"
   ]
  },
  {
   "cell_type": "code",
   "execution_count": 233,
   "metadata": {},
   "outputs": [
    {
     "data": {
      "text/plain": [
       "array([[0.09631779, 0.52880531, 0.75977914, 0.49174354, 0.52649174,\n",
       "        0.30804038, 0.5917852 , 0.38342105, 0.80954809, 0.40781232],\n",
       "       [0.53349803, 0.74521263, 0.92025028, 0.93176643, 0.10733483,\n",
       "        0.23345075, 0.39511589, 0.37001242, 0.40098908, 0.59625077],\n",
       "       [0.56847575, 0.61306057, 0.63363018, 0.38028942, 0.80241957,\n",
       "        0.60986876, 0.84817708, 0.93381579, 0.5916726 , 0.69632097],\n",
       "       [0.61809779, 0.29518349, 0.10041124, 0.45096997, 0.43833684,\n",
       "        0.42534606, 0.5527792 , 0.24720767, 0.50066323, 0.07552305],\n",
       "       [0.53924942, 0.98267792, 0.51597239, 0.12897319, 0.70878441,\n",
       "        0.99900952, 0.60109119, 0.00621821, 0.08140898, 0.53585908]])"
      ]
     },
     "execution_count": 233,
     "metadata": {},
     "output_type": "execute_result"
    }
   ],
   "source": [
    "y.T"
   ]
  },
  {
   "cell_type": "code",
   "execution_count": 235,
   "metadata": {},
   "outputs": [],
   "source": [
    "x = np.random.rand(10)"
   ]
  },
  {
   "cell_type": "code",
   "execution_count": 236,
   "metadata": {},
   "outputs": [
    {
     "data": {
      "text/plain": [
       "array([0.53821546, 0.01549303, 0.02248694, 0.42742327, 0.11334525,\n",
       "       0.15115613, 0.15077264, 0.82802895, 0.48472666, 0.83565149])"
      ]
     },
     "execution_count": 236,
     "metadata": {},
     "output_type": "execute_result"
    }
   ],
   "source": [
    "x"
   ]
  },
  {
   "cell_type": "code",
   "execution_count": 239,
   "metadata": {},
   "outputs": [],
   "source": [
    "x = np.random.rand(10, 3)"
   ]
  },
  {
   "cell_type": "code",
   "execution_count": 240,
   "metadata": {},
   "outputs": [],
   "source": [
    "y = np.random.rand(3, 2)"
   ]
  },
  {
   "cell_type": "code",
   "execution_count": 241,
   "metadata": {},
   "outputs": [
    {
     "data": {
      "text/plain": [
       "array([[0.04280709, 0.09753745, 0.15150553],\n",
       "       [0.00268942, 0.76252082, 0.46443389],\n",
       "       [0.01517137, 0.26818047, 0.73264641],\n",
       "       [0.62231373, 0.49394515, 0.13737445],\n",
       "       [0.33236687, 0.99999566, 0.10164843],\n",
       "       [0.15444439, 0.64072023, 0.21617835],\n",
       "       [0.01384968, 0.08114244, 0.83729285],\n",
       "       [0.1477511 , 0.78085261, 0.66688795],\n",
       "       [0.93193839, 0.90620243, 0.68865022],\n",
       "       [0.40160595, 0.76100333, 0.00885691]])"
      ]
     },
     "execution_count": 241,
     "metadata": {},
     "output_type": "execute_result"
    }
   ],
   "source": [
    "x"
   ]
  },
  {
   "cell_type": "code",
   "execution_count": 242,
   "metadata": {},
   "outputs": [
    {
     "data": {
      "text/plain": [
       "array([[0.73296556, 0.28696092],\n",
       "       [0.51710614, 0.89951326],\n",
       "       [0.56968514, 0.47588415]])"
      ]
     },
     "execution_count": 242,
     "metadata": {},
     "output_type": "execute_result"
    }
   ],
   "source": [
    "y"
   ]
  },
  {
   "cell_type": "code",
   "execution_count": 244,
   "metadata": {},
   "outputs": [
    {
     "data": {
      "text/plain": [
       "array([[0.16812379, 0.17211927],\n",
       "       [0.66085654, 0.90768608],\n",
       "       [0.56717564, 0.59424029],\n",
       "       [0.78981678, 0.68826426],\n",
       "       [0.81862496, 1.04325853],\n",
       "       [0.56767638, 0.7235317 ],\n",
       "       [0.52910389, 0.47541742],\n",
       "       [0.8919963 , 1.06214747],\n",
       "       [1.54399538, 1.41028873],\n",
       "       [0.69292848, 0.80399267]])"
      ]
     },
     "execution_count": 244,
     "metadata": {},
     "output_type": "execute_result"
    }
   ],
   "source": [
    "np.dot(x, y)"
   ]
  },
  {
   "cell_type": "code",
   "execution_count": 245,
   "metadata": {},
   "outputs": [
    {
     "data": {
      "text/plain": [
       "array([[0.16812379, 0.17211927],\n",
       "       [0.66085654, 0.90768608],\n",
       "       [0.56717564, 0.59424029],\n",
       "       [0.78981678, 0.68826426],\n",
       "       [0.81862496, 1.04325853],\n",
       "       [0.56767638, 0.7235317 ],\n",
       "       [0.52910389, 0.47541742],\n",
       "       [0.8919963 , 1.06214747],\n",
       "       [1.54399538, 1.41028873],\n",
       "       [0.69292848, 0.80399267]])"
      ]
     },
     "execution_count": 245,
     "metadata": {},
     "output_type": "execute_result"
    }
   ],
   "source": [
    "x @ y "
   ]
  },
  {
   "cell_type": "code",
   "execution_count": 246,
   "metadata": {},
   "outputs": [
    {
     "data": {
      "text/plain": [
       "array([[0.16812379, 0.17211927],\n",
       "       [0.66085654, 0.90768608],\n",
       "       [0.56717564, 0.59424029],\n",
       "       [0.78981678, 0.68826426],\n",
       "       [0.81862496, 1.04325853],\n",
       "       [0.56767638, 0.7235317 ],\n",
       "       [0.52910389, 0.47541742],\n",
       "       [0.8919963 , 1.06214747],\n",
       "       [1.54399538, 1.41028873],\n",
       "       [0.69292848, 0.80399267]])"
      ]
     },
     "execution_count": 246,
     "metadata": {},
     "output_type": "execute_result"
    }
   ],
   "source": [
    "np.inner(x, y.T)"
   ]
  },
  {
   "cell_type": "markdown",
   "metadata": {},
   "source": [
    "# K nearest neighbours"
   ]
  },
  {
   "cell_type": "code",
   "execution_count": 249,
   "metadata": {},
   "outputs": [],
   "source": [
    "x = np.random.rand(10000, 3)"
   ]
  },
  {
   "cell_type": "code",
   "execution_count": 250,
   "metadata": {},
   "outputs": [
    {
     "data": {
      "text/plain": [
       "array([[0.17852938, 0.10043705, 0.49148034],\n",
       "       [0.31571556, 0.83154293, 0.82944347],\n",
       "       [0.58023556, 0.82902078, 0.51087023],\n",
       "       ...,\n",
       "       [0.63084147, 0.1637215 , 0.04961797],\n",
       "       [0.55996257, 0.69944043, 0.5306189 ],\n",
       "       [0.06378925, 0.09187908, 0.68856575]])"
      ]
     },
     "execution_count": 250,
     "metadata": {},
     "output_type": "execute_result"
    }
   ],
   "source": [
    "x"
   ]
  },
  {
   "cell_type": "code",
   "execution_count": 251,
   "metadata": {},
   "outputs": [],
   "source": [
    "centroids = np.random.rand(5, 3)"
   ]
  },
  {
   "cell_type": "code",
   "execution_count": 252,
   "metadata": {},
   "outputs": [
    {
     "data": {
      "text/plain": [
       "array([[0.14148061, 0.56443537, 0.23246364],\n",
       "       [0.5387532 , 0.50983247, 0.57717325],\n",
       "       [0.98929648, 0.70372927, 0.71904536],\n",
       "       [0.45639578, 0.28576296, 0.43380822],\n",
       "       [0.63926379, 0.19007637, 0.93749095]])"
      ]
     },
     "execution_count": 252,
     "metadata": {},
     "output_type": "execute_result"
    }
   ],
   "source": [
    "centroids"
   ]
  },
  {
   "cell_type": "code",
   "execution_count": 253,
   "metadata": {},
   "outputs": [
    {
     "data": {
      "text/plain": [
       "array([0.17852938, 0.10043705, 0.49148034])"
      ]
     },
     "execution_count": 253,
     "metadata": {},
     "output_type": "execute_result"
    }
   ],
   "source": [
    "x[0]"
   ]
  },
  {
   "cell_type": "code",
   "execution_count": 254,
   "metadata": {},
   "outputs": [
    {
     "data": {
      "text/plain": [
       "array([0.14148061, 0.56443537, 0.23246364])"
      ]
     },
     "execution_count": 254,
     "metadata": {},
     "output_type": "execute_result"
    }
   ],
   "source": [
    "centroids[0]"
   ]
  },
  {
   "cell_type": "code",
   "execution_count": 259,
   "metadata": {},
   "outputs": [
    {
     "data": {
      "text/plain": [
       "0.5326881914861603"
      ]
     },
     "execution_count": 259,
     "metadata": {},
     "output_type": "execute_result"
    }
   ],
   "source": [
    "np.sqrt(((x[0] - centroids[0])**2).sum())"
   ]
  },
  {
   "cell_type": "code",
   "execution_count": 261,
   "metadata": {},
   "outputs": [],
   "source": [
    "def euclidean(x, y):\n",
    "    return np.sqrt(np.sum((x - y)**2))"
   ]
  },
  {
   "cell_type": "code",
   "execution_count": 262,
   "metadata": {},
   "outputs": [
    {
     "data": {
      "text/plain": [
       "0.5326881914861603"
      ]
     },
     "execution_count": 262,
     "metadata": {},
     "output_type": "execute_result"
    }
   ],
   "source": [
    "euclidean(x[0], centroids[0])"
   ]
  },
  {
   "cell_type": "code",
   "execution_count": 275,
   "metadata": {},
   "outputs": [
    {
     "name": "stdout",
     "output_type": "stream",
     "text": [
      "1.25 s ± 68.9 ms per loop (mean ± std. dev. of 7 runs, 1 loop each)\n"
     ]
    }
   ],
   "source": [
    "%%timeit \n",
    "\n",
    "n = 10000\n",
    "K = 5\n",
    "\n",
    "distances = np.empty((n,K))\n",
    "\n",
    "for i in range(n):\n",
    "    for k in range(K):\n",
    "        distances[i, k] = euclidean(x[i], centroids[k])"
   ]
  },
  {
   "cell_type": "code",
   "execution_count": 276,
   "metadata": {},
   "outputs": [
    {
     "data": {
      "text/plain": [
       "(10000, 3)"
      ]
     },
     "execution_count": 276,
     "metadata": {},
     "output_type": "execute_result"
    }
   ],
   "source": [
    "x.shape\n",
    "\n"
   ]
  },
  {
   "cell_type": "code",
   "execution_count": 277,
   "metadata": {},
   "outputs": [
    {
     "data": {
      "text/plain": [
       "(5, 3)"
      ]
     },
     "execution_count": 277,
     "metadata": {},
     "output_type": "execute_result"
    }
   ],
   "source": [
    "centroids.shape"
   ]
  },
  {
   "cell_type": "code",
   "execution_count": 282,
   "metadata": {},
   "outputs": [
    {
     "data": {
      "text/plain": [
       "array([[[0.17852938, 0.10043705, 0.49148034]],\n",
       "\n",
       "       [[0.31571556, 0.83154293, 0.82944347]],\n",
       "\n",
       "       [[0.58023556, 0.82902078, 0.51087023]],\n",
       "\n",
       "       ...,\n",
       "\n",
       "       [[0.63084147, 0.1637215 , 0.04961797]],\n",
       "\n",
       "       [[0.55996257, 0.69944043, 0.5306189 ]],\n",
       "\n",
       "       [[0.06378925, 0.09187908, 0.68856575]]])"
      ]
     },
     "execution_count": 282,
     "metadata": {},
     "output_type": "execute_result"
    }
   ],
   "source": [
    "x.reshape((n,1,3)) "
   ]
  },
  {
   "cell_type": "code",
   "execution_count": 284,
   "metadata": {},
   "outputs": [
    {
     "data": {
      "text/plain": [
       "(10000, 1, 3)"
      ]
     },
     "execution_count": 284,
     "metadata": {},
     "output_type": "execute_result"
    }
   ],
   "source": [
    "x.reshape((n, 1, 3)).shape"
   ]
  },
  {
   "cell_type": "code",
   "execution_count": 285,
   "metadata": {},
   "outputs": [
    {
     "data": {
      "text/plain": [
       "(5, 3)"
      ]
     },
     "execution_count": 285,
     "metadata": {},
     "output_type": "execute_result"
    }
   ],
   "source": [
    "centroids.shape"
   ]
  },
  {
   "cell_type": "code",
   "execution_count": 286,
   "metadata": {},
   "outputs": [],
   "source": [
    "w = np.array([1.0, 2.0, 3.0])\n",
    "\n",
    "\n"
   ]
  },
  {
   "cell_type": "code",
   "execution_count": 289,
   "metadata": {},
   "outputs": [
    {
     "data": {
      "text/plain": [
       "array([[0.85851939, 1.43556463, 2.76753636],\n",
       "       [0.4612468 , 1.49016753, 2.42282675],\n",
       "       [0.01070352, 1.29627073, 2.28095464],\n",
       "       [0.54360422, 1.71423704, 2.56619178],\n",
       "       [0.36073621, 1.80992363, 2.06250905]])"
      ]
     },
     "execution_count": 289,
     "metadata": {},
     "output_type": "execute_result"
    }
   ],
   "source": [
    "w - centroids"
   ]
  },
  {
   "cell_type": "code",
   "execution_count": 290,
   "metadata": {},
   "outputs": [
    {
     "data": {
      "text/plain": [
       "array([1., 2., 3.])"
      ]
     },
     "execution_count": 290,
     "metadata": {},
     "output_type": "execute_result"
    }
   ],
   "source": [
    "w"
   ]
  },
  {
   "cell_type": "code",
   "execution_count": 305,
   "metadata": {},
   "outputs": [
    {
     "name": "stdout",
     "output_type": "stream",
     "text": [
      "2.5 ms ± 147 µs per loop (mean ± std. dev. of 7 runs, 100 loops each)\n"
     ]
    }
   ],
   "source": [
    "%%timeit \n",
    "\n",
    "distances2 = np.sqrt(np.sum((x.reshape((n, 1, 3)) - centroids)**2, axis=2))\n"
   ]
  },
  {
   "cell_type": "code",
   "execution_count": 300,
   "metadata": {},
   "outputs": [
    {
     "data": {
      "text/plain": [
       "(10000, 5)"
      ]
     },
     "execution_count": 300,
     "metadata": {},
     "output_type": "execute_result"
    }
   ],
   "source": [
    "distances.shape"
   ]
  },
  {
   "cell_type": "code",
   "execution_count": 304,
   "metadata": {},
   "outputs": [
    {
     "data": {
      "text/plain": [
       "True"
      ]
     },
     "execution_count": 304,
     "metadata": {},
     "output_type": "execute_result"
    }
   ],
   "source": [
    "(distances2 == distances).all()"
   ]
  },
  {
   "cell_type": "code",
   "execution_count": 306,
   "metadata": {},
   "outputs": [
    {
     "data": {
      "text/plain": [
       "500.0"
      ]
     },
     "execution_count": 306,
     "metadata": {},
     "output_type": "execute_result"
    }
   ],
   "source": [
    "1250/2.5\n"
   ]
  },
  {
   "cell_type": "code",
   "execution_count": null,
   "metadata": {},
   "outputs": [],
   "source": []
  }
 ],
 "metadata": {
  "kernelspec": {
   "display_name": "Python 3",
   "language": "python",
   "name": "python3"
  },
  "language_info": {
   "codemirror_mode": {
    "name": "ipython",
    "version": 3
   },
   "file_extension": ".py",
   "mimetype": "text/x-python",
   "name": "python",
   "nbconvert_exporter": "python",
   "pygments_lexer": "ipython3",
   "version": "3.8.2"
  }
 },
 "nbformat": 4,
 "nbformat_minor": 4
}

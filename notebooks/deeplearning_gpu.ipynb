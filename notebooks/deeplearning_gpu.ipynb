{
  "nbformat": 4,
  "nbformat_minor": 0,
  "metadata": {
    "colab": {
      "name": "deeplearning_gpu.ipynb",
      "provenance": [],
      "collapsed_sections": []
    },
    "kernelspec": {
      "name": "python3",
      "display_name": "Python 3"
    },
    "accelerator": "GPU"
  },
  "cells": [
    {
      "cell_type": "code",
      "metadata": {
        "id": "Z2Ql5LCVyXfj",
        "colab_type": "code",
        "colab": {}
      },
      "source": [
        "import torch\n",
        "\n",
        "import numpy as np\n",
        "\n",
        "import torch.nn as nn\n",
        "from torch.nn import functional\n",
        "from torch.autograd import Variable\n",
        "\n",
        "from sklearn.model_selection import train_test_split\n",
        "from sklearn.metrics import accuracy_score, precision_score, recall_score\n",
        "\n",
        "import pandas as pd"
      ],
      "execution_count": 0,
      "outputs": []
    },
    {
      "cell_type": "code",
      "metadata": {
        "id": "40jIi2B41YKE",
        "colab_type": "code",
        "colab": {}
      },
      "source": [
        "iris_df = pd.read_csv('https://raw.githubusercontent.com/mark-andrews/pdms02/master/data/iris.csv')"
      ],
      "execution_count": 0,
      "outputs": []
    },
    {
      "cell_type": "code",
      "metadata": {
        "id": "wM-ataaj3GIw",
        "colab_type": "code",
        "outputId": "95b0db9f-a20f-40b1-89ab-ad55b5551a94",
        "colab": {
          "base_uri": "https://localhost:8080/",
          "height": 419
        }
      },
      "source": [
        "iris_df\n"
      ],
      "execution_count": 0,
      "outputs": [
        {
          "output_type": "execute_result",
          "data": {
            "text/html": [
              "<div>\n",
              "<style scoped>\n",
              "    .dataframe tbody tr th:only-of-type {\n",
              "        vertical-align: middle;\n",
              "    }\n",
              "\n",
              "    .dataframe tbody tr th {\n",
              "        vertical-align: top;\n",
              "    }\n",
              "\n",
              "    .dataframe thead th {\n",
              "        text-align: right;\n",
              "    }\n",
              "</style>\n",
              "<table border=\"1\" class=\"dataframe\">\n",
              "  <thead>\n",
              "    <tr style=\"text-align: right;\">\n",
              "      <th></th>\n",
              "      <th>sepal_length</th>\n",
              "      <th>sepal_width</th>\n",
              "      <th>petal_length</th>\n",
              "      <th>petal_width</th>\n",
              "      <th>species</th>\n",
              "    </tr>\n",
              "  </thead>\n",
              "  <tbody>\n",
              "    <tr>\n",
              "      <th>0</th>\n",
              "      <td>5.1</td>\n",
              "      <td>3.5</td>\n",
              "      <td>1.4</td>\n",
              "      <td>0.2</td>\n",
              "      <td>Iris-setosa</td>\n",
              "    </tr>\n",
              "    <tr>\n",
              "      <th>1</th>\n",
              "      <td>4.9</td>\n",
              "      <td>3.0</td>\n",
              "      <td>1.4</td>\n",
              "      <td>0.2</td>\n",
              "      <td>Iris-setosa</td>\n",
              "    </tr>\n",
              "    <tr>\n",
              "      <th>2</th>\n",
              "      <td>4.7</td>\n",
              "      <td>3.2</td>\n",
              "      <td>1.3</td>\n",
              "      <td>0.2</td>\n",
              "      <td>Iris-setosa</td>\n",
              "    </tr>\n",
              "    <tr>\n",
              "      <th>3</th>\n",
              "      <td>4.6</td>\n",
              "      <td>3.1</td>\n",
              "      <td>1.5</td>\n",
              "      <td>0.2</td>\n",
              "      <td>Iris-setosa</td>\n",
              "    </tr>\n",
              "    <tr>\n",
              "      <th>4</th>\n",
              "      <td>5.0</td>\n",
              "      <td>3.6</td>\n",
              "      <td>1.4</td>\n",
              "      <td>0.2</td>\n",
              "      <td>Iris-setosa</td>\n",
              "    </tr>\n",
              "    <tr>\n",
              "      <th>...</th>\n",
              "      <td>...</td>\n",
              "      <td>...</td>\n",
              "      <td>...</td>\n",
              "      <td>...</td>\n",
              "      <td>...</td>\n",
              "    </tr>\n",
              "    <tr>\n",
              "      <th>145</th>\n",
              "      <td>6.7</td>\n",
              "      <td>3.0</td>\n",
              "      <td>5.2</td>\n",
              "      <td>2.3</td>\n",
              "      <td>Iris-virginica</td>\n",
              "    </tr>\n",
              "    <tr>\n",
              "      <th>146</th>\n",
              "      <td>6.3</td>\n",
              "      <td>2.5</td>\n",
              "      <td>5.0</td>\n",
              "      <td>1.9</td>\n",
              "      <td>Iris-virginica</td>\n",
              "    </tr>\n",
              "    <tr>\n",
              "      <th>147</th>\n",
              "      <td>6.5</td>\n",
              "      <td>3.0</td>\n",
              "      <td>5.2</td>\n",
              "      <td>2.0</td>\n",
              "      <td>Iris-virginica</td>\n",
              "    </tr>\n",
              "    <tr>\n",
              "      <th>148</th>\n",
              "      <td>6.2</td>\n",
              "      <td>3.4</td>\n",
              "      <td>5.4</td>\n",
              "      <td>2.3</td>\n",
              "      <td>Iris-virginica</td>\n",
              "    </tr>\n",
              "    <tr>\n",
              "      <th>149</th>\n",
              "      <td>5.9</td>\n",
              "      <td>3.0</td>\n",
              "      <td>5.1</td>\n",
              "      <td>1.8</td>\n",
              "      <td>Iris-virginica</td>\n",
              "    </tr>\n",
              "  </tbody>\n",
              "</table>\n",
              "<p>150 rows × 5 columns</p>\n",
              "</div>"
            ],
            "text/plain": [
              "     sepal_length  sepal_width  petal_length  petal_width         species\n",
              "0             5.1          3.5           1.4          0.2     Iris-setosa\n",
              "1             4.9          3.0           1.4          0.2     Iris-setosa\n",
              "2             4.7          3.2           1.3          0.2     Iris-setosa\n",
              "3             4.6          3.1           1.5          0.2     Iris-setosa\n",
              "4             5.0          3.6           1.4          0.2     Iris-setosa\n",
              "..            ...          ...           ...          ...             ...\n",
              "145           6.7          3.0           5.2          2.3  Iris-virginica\n",
              "146           6.3          2.5           5.0          1.9  Iris-virginica\n",
              "147           6.5          3.0           5.2          2.0  Iris-virginica\n",
              "148           6.2          3.4           5.4          2.3  Iris-virginica\n",
              "149           5.9          3.0           5.1          1.8  Iris-virginica\n",
              "\n",
              "[150 rows x 5 columns]"
            ]
          },
          "metadata": {
            "tags": []
          },
          "execution_count": 3
        }
      ]
    },
    {
      "cell_type": "code",
      "metadata": {
        "id": "Gv27_Kjo3HaH",
        "colab_type": "code",
        "colab": {}
      },
      "source": [
        "class NN(nn.Module):\n",
        "\n",
        "  # constructor/initializer \n",
        "  def __init__(self):\n",
        "\n",
        "    # call parent's contructor\n",
        "    super(NN, self).__init__()\n",
        "\n",
        "    self.W1 = nn.Linear(4, 2)\n",
        "    self.W2 = nn.Linear(2, 3)\n",
        "\n",
        "    self.softmax = nn.Softmax(dim=1)\n",
        "\n",
        "  def forward(self, X):\n",
        "\n",
        "    X = functional.relu(self.W1(X))\n",
        "    X = self.W2(X)\n",
        "\n",
        "    X = self.softmax(X)\n",
        "\n",
        "    return X"
      ],
      "execution_count": 0,
      "outputs": []
    },
    {
      "cell_type": "code",
      "metadata": {
        "id": "vL4nnSjK9qDU",
        "colab_type": "code",
        "colab": {}
      },
      "source": [
        "species_rename = {'Iris-setosa': 0,\n",
        "                  'Iris-versicolor': 1,\n",
        "                  'Iris-virginica': 2}"
      ],
      "execution_count": 0,
      "outputs": []
    },
    {
      "cell_type": "code",
      "metadata": {
        "id": "CyTerZR2-ki5",
        "colab_type": "code",
        "outputId": "31c38cbe-5dab-4f3e-efe9-fd3ffdf22beb",
        "colab": {
          "base_uri": "https://localhost:8080/",
          "height": 34
        }
      },
      "source": [
        "species_rename['Iris-setosa']"
      ],
      "execution_count": 0,
      "outputs": [
        {
          "output_type": "execute_result",
          "data": {
            "text/plain": [
              "0"
            ]
          },
          "metadata": {
            "tags": []
          },
          "execution_count": 6
        }
      ]
    },
    {
      "cell_type": "markdown",
      "metadata": {
        "id": "qv6dCsnOAV7c",
        "colab_type": "text"
      },
      "source": [
        ""
      ]
    },
    {
      "cell_type": "code",
      "metadata": {
        "id": "K3ZlrwrK-mcn",
        "colab_type": "code",
        "colab": {}
      },
      "source": [
        "iris_df = iris_df.assign(target = list(map(species_rename.get, iris_df.species)))"
      ],
      "execution_count": 0,
      "outputs": []
    },
    {
      "cell_type": "code",
      "metadata": {
        "id": "g3J-n-Io-_dM",
        "colab_type": "code",
        "colab": {}
      },
      "source": [
        "train_X, test_X, train_y, test_y = train_test_split(iris_df.iloc[:,0:4].values,\n",
        "                                                    iris_df.target.values,\n",
        "                                                    test_size = 0.2)"
      ],
      "execution_count": 0,
      "outputs": []
    },
    {
      "cell_type": "code",
      "metadata": {
        "id": "jF475fwFARVx",
        "colab_type": "code",
        "colab": {}
      },
      "source": [
        "train_X = Variable(torch.Tensor(train_X).float().cuda())\n",
        "test_X = Variable(torch.Tensor(test_X).float().cuda())\n",
        "train_y = Variable(torch.Tensor(train_y).long().cuda())\n",
        "test_y = Variable(torch.Tensor(test_y).long().cuda())"
      ],
      "execution_count": 0,
      "outputs": []
    },
    {
      "cell_type": "code",
      "metadata": {
        "id": "c8EE3xuGB8gm",
        "colab_type": "code",
        "colab": {}
      },
      "source": [
        "criterion = nn.CrossEntropyLoss()\n",
        "\n"
      ],
      "execution_count": 0,
      "outputs": []
    },
    {
      "cell_type": "code",
      "metadata": {
        "id": "EXe5gMdbC-NF",
        "colab_type": "code",
        "outputId": "78f3e5fc-dcc8-4808-a16e-26092708a56b",
        "colab": {
          "base_uri": "https://localhost:8080/",
          "height": 357
        }
      },
      "source": [
        "neuralnet = NN()\n",
        "neuralnet.cuda()\n",
        "\n",
        "optimizer = torch.optim.SGD(neuralnet.parameters(), lr=0.01)\n",
        "\n",
        "for i in range(10000):\n",
        "  optimizer.zero_grad()\n",
        "  output = neuralnet(train_X)\n",
        "  error = criterion(output, train_y)\n",
        "  error.backward()\n",
        "  optimizer.step()\n",
        "\n",
        "  if i % 500 == 0:\n",
        "    print('Iteration {0}: error = {1:.3f}'.format(i, error.data))"
      ],
      "execution_count": 0,
      "outputs": [
        {
          "output_type": "stream",
          "text": [
            "Iteration 0: error = 1.173\n",
            "Iteration 500: error = 1.054\n",
            "Iteration 1000: error = 0.949\n",
            "Iteration 1500: error = 0.902\n",
            "Iteration 2000: error = 0.870\n",
            "Iteration 2500: error = 0.847\n",
            "Iteration 3000: error = 0.831\n",
            "Iteration 3500: error = 0.818\n",
            "Iteration 4000: error = 0.808\n",
            "Iteration 4500: error = 0.798\n",
            "Iteration 5000: error = 0.788\n",
            "Iteration 5500: error = 0.779\n",
            "Iteration 6000: error = 0.770\n",
            "Iteration 6500: error = 0.761\n",
            "Iteration 7000: error = 0.753\n",
            "Iteration 7500: error = 0.744\n",
            "Iteration 8000: error = 0.736\n",
            "Iteration 8500: error = 0.729\n",
            "Iteration 9000: error = 0.722\n",
            "Iteration 9500: error = 0.715\n"
          ],
          "name": "stdout"
        }
      ]
    },
    {
      "cell_type": "code",
      "metadata": {
        "id": "6Oe9YTucminN",
        "colab_type": "code",
        "colab": {}
      },
      "source": [
        "predictions = neuralnet(test_X)"
      ],
      "execution_count": 0,
      "outputs": []
    },
    {
      "cell_type": "code",
      "metadata": {
        "id": "lLqegCt6pisQ",
        "colab_type": "code",
        "colab": {}
      },
      "source": [
        "_, predicted_y = torch.max(predictions, 1)"
      ],
      "execution_count": 0,
      "outputs": []
    },
    {
      "cell_type": "code",
      "metadata": {
        "id": "xobXi753plzF",
        "colab_type": "code",
        "outputId": "7f2e9cba-e5aa-4f24-da90-c40e14193191",
        "colab": {
          "base_uri": "https://localhost:8080/",
          "height": 68
        }
      },
      "source": [
        "print('accuracy: {0}'.format(accuracy_score(test_y.data, predicted_y)))\n",
        "print('precision: {0}'.format(precision_score(test_y.data, predicted_y, average='micro')))\n",
        "print('recall: {0}'.format(recall_score(test_y.data, predicted_y, average = 'micro')))"
      ],
      "execution_count": 0,
      "outputs": [
        {
          "output_type": "stream",
          "text": [
            "accuracy: 0.9666666666666667\n",
            "precision: 0.9666666666666667\n",
            "recall: 0.9666666666666667\n"
          ],
          "name": "stdout"
        }
      ]
    },
    {
      "cell_type": "code",
      "metadata": {
        "id": "r_k0o2KEpngl",
        "colab_type": "code",
        "outputId": "063e1a94-d0b2-4a16-fb18-9b3f81f3960f",
        "colab": {
          "base_uri": "https://localhost:8080/",
          "height": 51
        }
      },
      "source": [
        "test_y.data"
      ],
      "execution_count": 0,
      "outputs": [
        {
          "output_type": "execute_result",
          "data": {
            "text/plain": [
              "tensor([0, 2, 0, 2, 2, 2, 2, 1, 2, 2, 0, 0, 1, 2, 0, 1, 2, 2, 1, 2, 1, 0, 1, 2,\n",
              "        1, 0, 1, 0, 2, 1])"
            ]
          },
          "metadata": {
            "tags": []
          },
          "execution_count": 66
        }
      ]
    },
    {
      "cell_type": "code",
      "metadata": {
        "id": "VG_hIVdep7rJ",
        "colab_type": "code",
        "outputId": "20ed2de2-5338-43d6-a315-9e9a6c3de3ea",
        "colab": {
          "base_uri": "https://localhost:8080/",
          "height": 51
        }
      },
      "source": [
        "predicted_y"
      ],
      "execution_count": 0,
      "outputs": [
        {
          "output_type": "execute_result",
          "data": {
            "text/plain": [
              "tensor([0, 2, 0, 2, 2, 2, 2, 1, 2, 2, 0, 0, 1, 2, 0, 1, 2, 2, 1, 2, 1, 0, 1, 2,\n",
              "        1, 0, 1, 0, 2, 1])"
            ]
          },
          "metadata": {
            "tags": []
          },
          "execution_count": 67
        }
      ]
    },
    {
      "cell_type": "code",
      "metadata": {
        "id": "jfcSyKMOrM7K",
        "colab_type": "code",
        "outputId": "05e0edc3-29a6-497d-93dc-ba49ae7ecc66",
        "colab": {
          "base_uri": "https://localhost:8080/",
          "height": 34
        }
      },
      "source": [
        "x,y,z"
      ],
      "execution_count": 0,
      "outputs": [
        {
          "output_type": "execute_result",
          "data": {
            "text/plain": [
              "(1, 2, 3)"
            ]
          },
          "metadata": {
            "tags": []
          },
          "execution_count": 68
        }
      ]
    },
    {
      "cell_type": "code",
      "metadata": {
        "id": "IKmPJ2j2rN6Q",
        "colab_type": "code",
        "colab": {}
      },
      "source": [
        "?accuracy_score"
      ],
      "execution_count": 0,
      "outputs": []
    },
    {
      "cell_type": "code",
      "metadata": {
        "id": "lWa9sibZrbvw",
        "colab_type": "code",
        "colab": {}
      },
      "source": [
        ""
      ],
      "execution_count": 0,
      "outputs": []
    }
  ]
}
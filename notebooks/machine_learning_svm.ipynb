{
 "cells": [
  {
   "cell_type": "code",
   "execution_count": 73,
   "metadata": {},
   "outputs": [],
   "source": [
    "import sklearn\n",
    "\n",
    "from sklearn import datasets\n",
    "from sklearn import svm\n",
    "from sklearn.preprocessing import scale\n",
    "from sklearn import metrics\n",
    "from sklearn.model_selection import train_test_split\n",
    "\n",
    "import matplotlib.pyplot as plt\n"
   ]
  },
  {
   "cell_type": "code",
   "execution_count": 7,
   "metadata": {},
   "outputs": [],
   "source": [
    "digits = datasets.load_digits()"
   ]
  },
  {
   "cell_type": "code",
   "execution_count": 34,
   "metadata": {},
   "outputs": [
    {
     "data": {
      "image/png": "[encoded data removed]",
      "text/plain": [
       "<Figure size 720x720 with 100 Axes>"
      ]
     },
     "metadata": {},
     "output_type": "display_data"
    }
   ],
   "source": [
    "fig = plt.figure(figsize = (10,10))\n",
    "\n",
    "for i in range(100):\n",
    "    ax = fig.add_subplot(10, 10, i+1, xticks=[], yticks=[])\n",
    "    plt.imshow(digits.images[i], cmap = plt.cm.binary, interpolation='nearest')"
   ]
  },
  {
   "cell_type": "markdown",
   "metadata": {},
   "source": [
    "## Input data\n",
    "\n",
    "We represent each 8x8 image as a 1 x 64 array of pixel values.\n",
    "So, our $n = 1797$ images are a $n \\times 64$ matrix.\n"
   ]
  },
  {
   "cell_type": "code",
   "execution_count": 74,
   "metadata": {},
   "outputs": [
    {
     "data": {
      "text/plain": [
       "array([[ 0.,  0.,  1., 12.,  5.,  0.,  0.,  0.],\n",
       "       [ 0.,  0.,  9., 16., 14.,  3.,  0.,  0.],\n",
       "       [ 0.,  2., 16., 14., 11., 13.,  0.,  0.],\n",
       "       [ 0.,  2., 16., 10.,  0., 14.,  4.,  0.],\n",
       "       [ 0.,  4., 16.,  0.,  0., 12.,  4.,  0.],\n",
       "       [ 0.,  4., 16.,  3.,  0., 11., 10.,  0.],\n",
       "       [ 0.,  0., 13., 12.,  8., 14.,  6.,  0.],\n",
       "       [ 0.,  0.,  3., 10., 16., 12.,  1.,  0.]])"
      ]
     },
     "execution_count": 74,
     "metadata": {},
     "output_type": "execute_result"
    }
   ],
   "source": [
    "digits.images[101]"
   ]
  },
  {
   "cell_type": "code",
   "execution_count": 75,
   "metadata": {},
   "outputs": [
    {
     "data": {
      "text/plain": [
       "array([ 0.,  0.,  1., 12.,  5.,  0.,  0.,  0.,  0.,  0.,  9., 16., 14.,\n",
       "        3.,  0.,  0.,  0.,  2., 16., 14., 11., 13.,  0.,  0.,  0.,  2.,\n",
       "       16., 10.,  0., 14.,  4.,  0.,  0.,  4., 16.,  0.,  0., 12.,  4.,\n",
       "        0.,  0.,  4., 16.,  3.,  0., 11., 10.,  0.,  0.,  0., 13., 12.,\n",
       "        8., 14.,  6.,  0.,  0.,  0.,  3., 10., 16., 12.,  1.,  0.])"
      ]
     },
     "execution_count": 75,
     "metadata": {},
     "output_type": "execute_result"
    }
   ],
   "source": [
    "digits.data[101]"
   ]
  },
  {
   "cell_type": "markdown",
   "metadata": {},
   "source": [
    "## test, training\n",
    "\n",
    "We split our $n$ images into two sets. One set has has 75% of the observations, and the other has 25%.\n",
    "We use the 75% as the \"training\" set.\n",
    "\n",
    "So our test set is 25% of the data. For both the test and training sets, we have \"inputs\" and \"targets\".\n",
    "We label the \"inputs\" by `X` below and the targets by `y`. E.g. `X_train`, and `y_train`."
   ]
  },
  {
   "cell_type": "code",
   "execution_count": 80,
   "metadata": {},
   "outputs": [],
   "source": [
    "X_train, X_test, y_train, y_test, images_train, images_test\\\n",
    "    = train_test_split(digits.data,\n",
    "                       digits.target,\n",
    "                       digits.images,\n",
    "                       test_size = 0.25,\n",
    "                       random_state = 1010)"
   ]
  },
  {
   "cell_type": "markdown",
   "metadata": {},
   "source": [
    "## Support vector machine\n",
    "\n",
    "The svm is a max margin linear classifier. It will find hyperplanes in the 64 dimensional space that divides the space. We use essentially default parameters. "
   ]
  },
  {
   "cell_type": "code",
   "execution_count": 81,
   "metadata": {},
   "outputs": [],
   "source": [
    "model = svm.SVC(gamma = 0.001, C=100.0, kernel = 'linear')"
   ]
  },
  {
   "cell_type": "markdown",
   "metadata": {},
   "source": [
    "The following is how we fit the data."
   ]
  },
  {
   "cell_type": "code",
   "execution_count": 82,
   "metadata": {},
   "outputs": [],
   "source": [
    "model_fit = model.fit(X_train, y_train)"
   ]
  },
  {
   "cell_type": "markdown",
   "metadata": {},
   "source": [
    "Now, we make predictions."
   ]
  },
  {
   "cell_type": "code",
   "execution_count": 70,
   "metadata": {},
   "outputs": [],
   "source": [
    "y_predicted = model.predict(X_test)"
   ]
  },
  {
   "cell_type": "markdown",
   "metadata": {},
   "source": [
    "Now, we compare the predictions with the truth in a *confusion matrix*."
   ]
  },
  {
   "cell_type": "code",
   "execution_count": 72,
   "metadata": {},
   "outputs": [
    {
     "data": {
      "text/plain": [
       "array([[43,  0,  0,  0,  0,  0,  0,  0,  0,  0],\n",
       "       [ 0, 45,  0,  0,  0,  0,  0,  0,  1,  0],\n",
       "       [ 0,  0, 50,  0,  0,  0,  0,  0,  0,  0],\n",
       "       [ 0,  0,  0, 36,  0,  0,  0,  0,  1,  1],\n",
       "       [ 0,  0,  0,  0, 52,  0,  0,  0,  0,  1],\n",
       "       [ 0,  0,  0,  1,  0, 44,  0,  0,  0,  0],\n",
       "       [ 0,  1,  0,  0,  0,  0, 36,  0,  0,  0],\n",
       "       [ 0,  0,  0,  0,  0,  0,  0, 42,  0,  0],\n",
       "       [ 0,  2,  0,  0,  0,  0,  0,  0, 43,  0],\n",
       "       [ 0,  0,  0,  0,  0,  1,  0,  0,  2, 48]])"
      ]
     },
     "execution_count": 72,
     "metadata": {},
     "output_type": "execute_result"
    }
   ],
   "source": [
    "metrics.confusion_matrix(y_test, y_predicted)"
   ]
  },
  {
   "cell_type": "code",
   "execution_count": 71,
   "metadata": {},
   "outputs": [],
   "source": []
  },
  {
   "cell_type": "code",
   "execution_count": null,
   "metadata": {},
   "outputs": [],
   "source": []
  }
 ],
 "metadata": {
  "kernelspec": {
   "display_name": "Python 3",
   "language": "python",
   "name": "python3"
  },
  "language_info": {
   "codemirror_mode": {
    "name": "ipython",
    "version": 3
   },
   "file_extension": ".py",
   "mimetype": "text/x-python",
   "name": "python",
   "nbconvert_exporter": "python",
   "pygments_lexer": "ipython3",
   "version": "3.8.2"
  }
 },
 "nbformat": 4,
 "nbformat_minor": 4
}
